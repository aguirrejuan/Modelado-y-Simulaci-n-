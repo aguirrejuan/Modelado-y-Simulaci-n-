{
 "cells": [
  {
   "cell_type": "markdown",
   "metadata": {},
   "source": [
    "# Modeling and Simulation\n",
    "**Juan Carlos Aguirre Arango**\n",
    "code: 0816001"
   ]
  },
  {
   "cell_type": "markdown",
   "metadata": {
    "colab_type": "text",
    "id": "4Bwo3Jn_RlZQ"
   },
   "source": [
    "## **Ley de enfriamiento de newton**\n",
    "La ley del enfriamiento de Newton o enfriamiento newtoniano establece que la tasa de pérdida de calor de un cuerpo es proporcional a la diferencia de temperatura entre el cuerpo y sus alrededores\n"
   ]
  },
  {
   "cell_type": "markdown",
   "metadata": {
    "colab_type": "text",
    "id": "G9pVuOPudjK0"
   },
   "source": [
    "**La ecuacióón diferencial es la siguiente**"
   ]
  },
  {
   "cell_type": "markdown",
   "metadata": {},
   "source": [
    "$$\\frac{d}{dt}T(t)=-K(T(t) - T_a)$$"
   ]
  },
  {
   "cell_type": "markdown",
   "metadata": {},
   "source": [
    "Donde $K$ es una constante proporcional que depende de las propiedades físicas del material "
   ]
  },
  {
   "cell_type": "markdown",
   "metadata": {},
   "source": [
    "## Solución de la ecuación diferencial usando los métodos de Euler y Range Kutta"
   ]
  },
  {
   "cell_type": "code",
   "execution_count": 9,
   "metadata": {
    "colab": {},
    "colab_type": "code",
    "id": "rRSCVYF2q4BS"
   },
   "outputs": [],
   "source": [
    "import numpy as np\n",
    "import matplotlib.pyplot as plt\n",
    "\n",
    "# Función destinada a pintar los flujos \n",
    "def flujos(iniciales,ti,tf,dx):\n",
    "  y = np.zeros((len(iniciales),int((tf-ti)/0.001)))\n",
    "  for i in range(len(iniciales)):\n",
    "    t,y[i,:] = euler(iniciales[i],ti,tf,dx)\n",
    "    plt.plot(t,y[i,:],'_')\n",
    "  plt.grid()\n",
    "  plt.xlabel('t')\n",
    "  plt.ylabel('T(t)')\n"
   ]
  },
  {
   "cell_type": "markdown",
   "metadata": {},
   "source": [
    "**Definición de los métodos númericos** "
   ]
  },
  {
   "cell_type": "code",
   "execution_count": 10,
   "metadata": {
    "colab": {},
    "colab_type": "code",
    "id": "zZ5I9P92rD0J"
   },
   "outputs": [],
   "source": [
    "def kutta(xo,ti,tf,dx):\n",
    "\th = 0.001 \n",
    "\tt = np.arange(ti,tf,h)\n",
    "\tx = np.zeros(len(t))\n",
    "\tx[0] = xo\n",
    "\t\n",
    "\tfor i in range(1,len(t)):\n",
    "\t\tk_1 = dx(t[i-1],x[i-1])\n",
    "\t\tk_2 = dx(t[i-1] + (h/2),x[i-1]+(h/2)*k_1)\n",
    "\t\tk_3 = dx(t[i-1] + (h/2),x[i-1]+(h/2)*k_2)\n",
    "\t\tk_4 = dx(t[i-1] + h,x[i-1]+h*k_3)\n",
    "\t\tx[i] = x[i-1] + (h/6)*(k_1 + 2*k_2 + 2*k_3 + k_4)\n",
    "\t\t\n",
    "\treturn t,x \n",
    "\n",
    "def euler(xo,ti,tf,dx):\n",
    "\th =0.001\n",
    "\tt = np.arange(ti,tf,h)\n",
    "\tx = np.zeros(len(t))\n",
    "\tx[0]=xo\n",
    "\tfor i in range(1,len(t)):\n",
    "\t\tx[i]= x[i-1] + h*dx(t[i-1],x[i-1])\n",
    "\treturn t,x"
   ]
  },
  {
   "cell_type": "markdown",
   "metadata": {},
   "source": [
    "Definición de la ecuación diferencial en **Python**"
   ]
  },
  {
   "cell_type": "code",
   "execution_count": 11,
   "metadata": {
    "colab": {
     "base_uri": "https://localhost:8080/",
     "height": 85
    },
    "colab_type": "code",
    "executionInfo": {
     "elapsed": 1165,
     "status": "ok",
     "timestamp": 1584481700321,
     "user": {
      "displayName": "Juan Carlos Aguirre Arango",
      "photoUrl": "",
      "userId": "01731129062528920162"
     },
     "user_tz": 300
    },
    "id": "J96nT59rdAeO",
    "outputId": "581835d8-99f9-4549-ba0b-d62406958034"
   },
   "outputs": [],
   "source": [
    "def dx(t,x):\n",
    "  T_a = 30\n",
    "  k = 0.40\n",
    "  return -(k)*(x-T_a)"
   ]
  },
  {
   "cell_type": "markdown",
   "metadata": {
    "colab_type": "text",
    "id": "d7Y87a8OexAc"
   },
   "source": [
    "## Simulación"
   ]
  },
  {
   "cell_type": "code",
   "execution_count": 12,
   "metadata": {
    "colab": {},
    "colab_type": "code",
    "id": "xBOuOPExthCv"
   },
   "outputs": [],
   "source": [
    "t,y = euler(35,0,25,dx)"
   ]
  },
  {
   "cell_type": "code",
   "execution_count": 13,
   "metadata": {
    "colab": {
     "base_uri": "https://localhost:8080/",
     "height": 300
    },
    "colab_type": "code",
    "executionInfo": {
     "elapsed": 1246,
     "status": "ok",
     "timestamp": 1584482016369,
     "user": {
      "displayName": "Juan Carlos Aguirre Arango",
      "photoUrl": "",
      "userId": "01731129062528920162"
     },
     "user_tz": 300
    },
    "id": "K2VSM1YtvGrk",
    "outputId": "689d0b6c-9ad6-4891-ec1e-a697b38e8f5e"
   },
   "outputs": [
    {
     "data": {
      "text/plain": [
       "(30.00022663663695, 35.0)"
      ]
     },
     "execution_count": 13,
     "metadata": {},
     "output_type": "execute_result"
    },
    {
     "data": {
      "image/png": "[encoded data removed]",
      "text/plain": [
       "<Figure size 432x288 with 1 Axes>"
      ]
     },
     "metadata": {
      "needs_background": "light"
     },
     "output_type": "display_data"
    }
   ],
   "source": [
    "plt.plot(t,y)\n",
    "plt.grid()\n",
    "plt.xlabel('t')\n",
    "plt.ylabel('T(t)')\n",
    "plt.xlim((min(t),max(t)))\n",
    "plt.ylim((min(y),max(y)))"
   ]
  },
  {
   "cell_type": "markdown",
   "metadata": {
    "colab_type": "text",
    "id": "e86xP8FKfUX6"
   },
   "source": [
    "### Flujos "
   ]
  },
  {
   "cell_type": "code",
   "execution_count": 14,
   "metadata": {
    "colab": {
     "base_uri": "https://localhost:8080/",
     "height": 279
    },
    "colab_type": "code",
    "executionInfo": {
     "elapsed": 1352,
     "status": "ok",
     "timestamp": 1584483017790,
     "user": {
      "displayName": "Juan Carlos Aguirre Arango",
      "photoUrl": "",
      "userId": "01731129062528920162"
     },
     "user_tz": 300
    },
    "id": "edHy6CBKfT6a",
    "outputId": "03f524cf-dcb3-4643-e9f6-54788e48df9d"
   },
   "outputs": [
    {
     "data": {
      "image/png": "[encoded data removed]",
      "text/plain": [
       "<Figure size 432x288 with 1 Axes>"
      ]
     },
     "metadata": {
      "needs_background": "light"
     },
     "output_type": "display_data"
    }
   ],
   "source": [
    "inciciales = np.arange(0,60, 3)\n",
    "flujos(inciciales,0,10,dx)"
   ]
  },
  {
   "cell_type": "markdown",
   "metadata": {
    "colab_type": "text",
    "id": "cuysRH-Bb95P"
   },
   "source": [
    "http://www.sc.ehu.es/sbweb/fisica/estadistica/otros/enfriamiento/enfriamiento.htm\n"
   ]
  },
  {
   "cell_type": "code",
   "execution_count": null,
   "metadata": {
    "colab": {},
    "colab_type": "code",
    "id": "OIYF-u0Cb-0k"
   },
   "outputs": [],
   "source": []
  }
 ],
 "metadata": {
  "colab": {
   "authorship_tag": "ABX9TyMXnFDVTXBYC1ii3ESR9eTa",
   "collapsed_sections": [],
   "name": "ley_de_enfriamiento_de_newton.ipynb",
   "provenance": []
  },
  "kernelspec": {
   "display_name": "Python 3",
   "language": "python",
   "name": "python3"
  },
  "language_info": {
   "codemirror_mode": {
    "name": "ipython",
    "version": 3
   },
   "file_extension": ".py",
   "mimetype": "text/x-python",
   "name": "python",
   "nbconvert_exporter": "python",
   "pygments_lexer": "ipython3",
   "version": "3.7.6"
  }
 },
 "nbformat": 4,
 "nbformat_minor": 1
}
