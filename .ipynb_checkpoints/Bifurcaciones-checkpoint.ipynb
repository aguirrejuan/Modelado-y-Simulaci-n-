{
 "cells": [
  {
   "cell_type": "markdown",
   "metadata": {},
   "source": [
    "# <center>Bifurcaciones"
   ]
  },
  {
   "cell_type": "code",
   "execution_count": 1,
   "metadata": {},
   "outputs": [],
   "source": [
    "import numpy as np \n",
    "import matplotlib.pyplot as plt "
   ]
  },
  {
   "cell_type": "code",
   "execution_count": 2,
   "metadata": {},
   "outputs": [],
   "source": [
    "fs = 1000\n",
    "t = np.arange(-10,10,1/fs)\n",
    "x = np.arange(-10,10,1/fs)\n",
    "def dx(t,x):\n",
    "    r = 1\n",
    "    return 40*x - x**3"
   ]
  },
  {
   "cell_type": "code",
   "execution_count": 3,
   "metadata": {},
   "outputs": [],
   "source": [
    "d_x = dx(t,x)"
   ]
  },
  {
   "cell_type": "code",
   "execution_count": 4,
   "metadata": {},
   "outputs": [
    {
     "data": {
      "text/plain": [
       "Text(0, 0.5, 'dx/dt')"
      ]
     },
     "execution_count": 4,
     "metadata": {},
     "output_type": "execute_result"
    },
    {
     "data": {
      "image/png": "[encoded data removed]",
      "text/plain": [
       "<Figure size 432x288 with 1 Axes>"
      ]
     },
     "metadata": {
      "needs_background": "light"
     },
     "output_type": "display_data"
    }
   ],
   "source": [
    "plt.plot(x,d_x)\n",
    "plt.grid()\n",
    "plt.xlabel('x')\n",
    "plt.ylabel('dx/dt')"
   ]
  },
  {
   "cell_type": "code",
   "execution_count": 5,
   "metadata": {},
   "outputs": [],
   "source": [
    "tol = 1e-12\n",
    "def bisection(dx,x_m,x_p):\n",
    "    diff = np.abs(x_m-x_p)\n",
    "    f_x_p =  dx(x_p)\n",
    "\n",
    "    while diff>tol: \n",
    "        x_next = (x_m + x_p)/2\n",
    "        f_x_next =  dx(x_next)\n",
    "        f_x_p =  dx(x_p)\n",
    "        if f_x_next*f_x_p >0:\n",
    "            x_p = x_next \n",
    "        else:\n",
    "            x_m = x_next \n",
    "        diff = np.abs(x_m-x_p)\n",
    "    return x_m\n",
    "\n",
    "def find_all_zeros(dx,x_m,x_p):\n",
    "    x_zeros = []\n",
    "    x_zero = bisection(dx,x_m,x_p)\n",
    "    while x_zero != x_m:\n",
    "        x_zeros.append(x_zero)\n",
    "        x_p = x_zero - tol\n",
    "        x_zero = bisection(dx,x_m,x_p)\n",
    "        #print(x_zero)\n",
    "    return x_zeros "
   ]
  },
  {
   "cell_type": "code",
   "execution_count": 6,
   "metadata": {},
   "outputs": [
    {
     "data": {
      "image/png": "[encoded data removed]",
      "text/plain": [
       "<Figure size 432x288 with 1 Axes>"
      ]
     },
     "metadata": {
      "needs_background": "light"
     },
     "output_type": "display_data"
    }
   ],
   "source": [
    "r = np.arange(-40,40,1)\n",
    "for i in r:\n",
    "    x_m = -10\n",
    "    x_p = 10\n",
    "    dx__ = lambda x: i*x - x**3\n",
    "    zeros = find_all_zeros(dx__,x_m,x_p)\n",
    "    for j in zeros:\n",
    "        if dx__(j-tol)>dx__(j+tol):\n",
    "            plt.plot(i,j,'r.')\n",
    "        else:\n",
    "            plt.plot(i,j,'b.')  "
   ]
  },
  {
   "cell_type": "code",
   "execution_count": null,
   "metadata": {},
   "outputs": [],
   "source": []
  }
 ],
 "metadata": {
  "kernelspec": {
   "display_name": "Python 3",
   "language": "python",
   "name": "python3"
  },
  "language_info": {
   "codemirror_mode": {
    "name": "ipython",
    "version": 3
   },
   "file_extension": ".py",
   "mimetype": "text/x-python",
   "name": "python",
   "nbconvert_exporter": "python",
   "pygments_lexer": "ipython3",
   "version": "3.7.6"
  }
 },
 "nbformat": 4,
 "nbformat_minor": 4
}
