{
 "cells": [
  {
   "cell_type": "markdown",
   "metadata": {},
   "source": [
    "### Modelado y simulacion\n",
    "\n",
    "\n",
    "* [Encontrar raíces](Encontrar_raices.ipynb)\n",
    "* [MÉTODOS NUMÉRICOS PARA RESOLVER ECUACIONES DIFERENCIALES:Euler y Runge Kutta](metodos_euler_runge.ipynb)\n",
    "* [Ley de enfriamiento de newton](ley_de_enfriamiento_de_newton.ipynb)\n",
    "* [Tarea: Solución de problemas de valor inicial](Tarea_1.ipynb)\n",
    "* [Bifurcaciones](Bifurcaciones.ipynb)\n",
    "* [Funciones Organizadas](Funciones_organizadas.ipynb)\n",
    "* [Campos vectoriales](Campos_vectoriales.ipynb)\n",
    "* [Integración Númerica: Regla del Trapecio](trapezoidal.ipynb)\n",
    "* [Ejercicios del libro Nonlinear Dynamics And Chaos -Strogatz, S. H.](ejercicios_libro.ipynb)"
   ]
  },
  {
   "cell_type": "code",
   "execution_count": null,
   "metadata": {},
   "outputs": [],
   "source": []
  }
 ],
 "metadata": {
  "kernelspec": {
   "display_name": "Python 3",
   "language": "python",
   "name": "python3"
  },
  "language_info": {
   "codemirror_mode": {
    "name": "ipython",
    "version": 3
   },
   "file_extension": ".py",
   "mimetype": "text/x-python",
   "name": "python",
   "nbconvert_exporter": "python",
   "pygments_lexer": "ipython3",
   "version": "3.7.6"
  }
 },
 "nbformat": 4,
 "nbformat_minor": 4
}
