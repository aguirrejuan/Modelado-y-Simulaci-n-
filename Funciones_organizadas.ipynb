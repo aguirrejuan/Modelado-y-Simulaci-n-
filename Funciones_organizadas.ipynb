{
 "cells": [
  {
   "cell_type": "code",
   "execution_count": 4,
   "metadata": {},
   "outputs": [],
   "source": [
    "import numpy as np\n",
    "import matplotlib.pyplot as plt "
   ]
  },
  {
   "cell_type": "markdown",
   "metadata": {},
   "source": [
    "Método de Euler explícito para resolver ecuaciones deferenciales de valores iniciales "
   ]
  },
  {
   "cell_type": "code",
   "execution_count": 1,
   "metadata": {},
   "outputs": [],
   "source": [
    "def euler_ex(dx,xo,ti,tf):\n",
    "    h =0.001\n",
    "    t = np.arange(ti,tf,h)\n",
    "    x = np.zeros(len(t))\n",
    "    x[0]=xo\n",
    "    for i in range(1,len(t)):\n",
    "        x[i]= x[i-1] + h*dx(t[i-1],x[i-1])\n",
    "        \n",
    "    return t,x"
   ]
  },
  {
   "cell_type": "markdown",
   "metadata": {},
   "source": [
    "Método de Runge Kutta para resolver ecuaciones deferenciales de valores iniciales "
   ]
  },
  {
   "cell_type": "code",
   "execution_count": 2,
   "metadata": {},
   "outputs": [],
   "source": [
    "def kutta(dx,xo,ti,tf):\n",
    "    h = 0.001 \n",
    "    t = np.arange(ti,tf,h)\n",
    "    x = np.zeros(len(t))\n",
    "    x[0] = xo\n",
    "    \n",
    "    for i in range(1,len(t)):\n",
    "        k_1 = dx(t[i-1],x[i-1])\n",
    "        k_2 = dx(t[i-1] + (h/2),x[i-1]+(h/2)*k_1)\n",
    "        k_3 = dx(t[i-1] + (h/2),x[i-1]+(h/2)*k_2)\n",
    "        k_4 = dx(t[i-1] + h,x[i-1]+h*k_3)\n",
    "        x[i] = x[i-1] + (h/6)*(k_1 + 2*k_2 + 2*k_3 + k_4)\n",
    "\n",
    "    return t,x "
   ]
  },
  {
   "cell_type": "markdown",
   "metadata": {},
   "source": [
    "Función para pintar los flujos "
   ]
  },
  {
   "cell_type": "code",
   "execution_count": 3,
   "metadata": {},
   "outputs": [],
   "source": [
    "def flujos(iniciales,ti,tf,dx):\n",
    "    y = np.zeros((len(iniciales),int((tf-ti)/0.001)))\n",
    "    for i in range(len(iniciales)):\n",
    "        t,y[i,:] = euler(dx,iniciales[i],ti,tf)\n",
    "        plt.plot(t,y[i,:])\n",
    "    plt.grid()\n",
    "    plt.xlabel('t')\n",
    "    plt.ylabel('x')"
   ]
  },
  {
   "cell_type": "markdown",
   "metadata": {},
   "source": [
    "Método de bisección "
   ]
  },
  {
   "cell_type": "code",
   "execution_count": 6,
   "metadata": {},
   "outputs": [],
   "source": [
    "def bisection(dx,x_m,x_p):\n",
    "    tol = 1e-15\n",
    "    diff = np.abs(x_m-x_p)\n",
    "    f_x_p =  dx(x_p)\n",
    "\n",
    "    while diff>tol: \n",
    "        x_next = (x_m + x_p)/2\n",
    "        f_x_next =  dx(x_next)\n",
    "        f_x_p =  dx(x_p)\n",
    "        if f_x_next*f_x_p >0:\n",
    "            x_p = x_next \n",
    "        else:\n",
    "            x_m = x_next \n",
    "        diff = np.abs(x_m-x_p)\n",
    "    return x_m\n",
    "\n",
    "#función para encontrar todos los ceros de una función usando el método de bisección \n",
    "def find_all_zeros(dx,x_m,x_p):\n",
    "    x_zeros = []\n",
    "    x_zero = bisection(dx,x_m,x_p)\n",
    "    while x_zero != x_m:\n",
    "        x_zeros.append(x_zero)\n",
    "        x_p = x_zero - tol\n",
    "        x_zero = bisection(dx,x_m,x_p)\n",
    "    return x_zeros "
   ]
  },
  {
   "cell_type": "markdown",
   "metadata": {},
   "source": [
    "Método de Newton-Raphson para encontrar ceros "
   ]
  },
  {
   "cell_type": "code",
   "execution_count": null,
   "metadata": {},
   "outputs": [],
   "source": [
    "def derivada(fx,x):\n",
    "    h = 0.001\n",
    "    return (fx(x+h)-fx(x))/h \n",
    "\n",
    "def newton(f,xi):\n",
    "    tol=1e-19\n",
    "    x_next= xi-(f(xi)/derivada(f,xi))\n",
    "    diff=np.abs(xi-x_next)\n",
    "    while tol<diff:\n",
    "        x_next= xi-(f(xi)/derivada(f,xi))\n",
    "        diff=np.abs(xi-x_next)\n",
    "        xi=x_next\n",
    "    return xi "
   ]
  },
  {
   "cell_type": "code",
   "execution_count": null,
   "metadata": {},
   "outputs": [],
   "source": []
  }
 ],
 "metadata": {
  "kernelspec": {
   "display_name": "Python 3",
   "language": "python",
   "name": "python3"
  },
  "language_info": {
   "codemirror_mode": {
    "name": "ipython",
    "version": 3
   },
   "file_extension": ".py",
   "mimetype": "text/x-python",
   "name": "python",
   "nbconvert_exporter": "python",
   "pygments_lexer": "ipython3",
   "version": "3.7.6"
  }
 },
 "nbformat": 4,
 "nbformat_minor": 4
}
