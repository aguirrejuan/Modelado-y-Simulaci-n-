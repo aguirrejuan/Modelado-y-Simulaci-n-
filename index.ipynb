{
 "cells": [
  {
   "cell_type": "markdown",
   "metadata": {},
   "source": [
    "### Modelado y simulacion\n",
    "\n",
    "\n",
    "* [Encontrar raíces](Encontrar_raices.ipynb)\n",
    "* [MÉTODOS NUMÉRICOS PARA RESOLVER ECUACIONES DIFERENCIALES:Euler y Runge Kutta](metodos_euler_runge.ipynb)\n",
    "* [Ley de enfriamiento de newton](ley_de_enfriamiento_de_newton.ipynb)\n",
    "* [Tarea: Solución de problemas de valor inicial](Tarea_1.ipynb)\n",
    "* [Bifurcaciones](Bifurcaciones.ipynb)\n",
    "* [Funciones Organizadas](Funciones_organizadas.ipynb)\n",
    "* [Campos vectoriales](Campos_vectoriales.ipynb)\n",
    "* [Integración Númerica: Regla del Trapecio](trapezoidal.ipynb)\n",
    "* [Ejercicios del libro Nonlinear Dynamics And Chaos -Strogatz, S. H.](ejercicios_libro.ipynb)\n",
    "* [Proyecto: Oscilador de Colpitts](colpitts_oscillator.ipynb)\n",
    "* [Ecuaciones de Lorenz](Ecuaciones_lorenz.ipynb)\n",
    "* [Metodo Numérico de integración: Regla  trapezoidal](trapezoidal.ipynb)"
   ]
  },
  {
   "cell_type": "code",
   "execution_count": null,
   "metadata": {},
   "outputs": [],
   "source": []
  }
 ],
 "metadata": {
  "kernelspec": {
   "display_name": "Python 3",
   "language": "python",
   "name": "python3"
  },
  "language_info": {
   "codemirror_mode": {
    "name": "ipython",
    "version": 3
   },
   "file_extension": ".py",
   "mimetype": "text/x-python",
   "name": "python",
   "nbconvert_exporter": "python",
   "pygments_lexer": "ipython3",
   "version": "3.7.6"
  },
  "varInspector": {
   "cols": {
    "lenName": 16,
    "lenType": 16,
    "lenVar": 40
   },
   "kernels_config": {
    "python": {
     "delete_cmd_postfix": "",
     "delete_cmd_prefix": "del ",
     "library": "var_list.py",
     "varRefreshCmd": "print(var_dic_list())"
    },
    "r": {
     "delete_cmd_postfix": ") ",
     "delete_cmd_prefix": "rm(",
     "library": "var_list.r",
     "varRefreshCmd": "cat(var_dic_list()) "
    }
   },
   "types_to_exclude": [
    "module",
    "function",
    "builtin_function_or_method",
    "instance",
    "_Feature"
   ],
   "window_display": false
  }
 },
 "nbformat": 4,
 "nbformat_minor": 4
}
